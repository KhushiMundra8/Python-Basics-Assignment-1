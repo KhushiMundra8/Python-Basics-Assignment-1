{
 "cells": [
  {
   "cell_type": "raw",
   "id": "3fc9358d-29c8-423e-81c8-855c7439e1ff",
   "metadata": {},
   "source": [
    "Name : Khushi Mundra\n",
    "\n",
    "Ques1) Explain the key features of python that make it a popular choice for programming\n",
    "\n",
    "Ans1) 1.It has readable syntax, it is easy to read and write in python.\n",
    "      2.It has a lot of modules and packages for various tasks, minimizing the need for custom code.\n",
    "      3. It has a huge active community.\n",
    "      4. Runs on various operating system.\n",
    "      5. It is widly use in the industry because of lot of libraries.\n",
    "      6. It provides data science and ml support because of its libraries."
   ]
  },
  {
   "cell_type": "raw",
   "id": "582d8d15-42b5-403a-a8cb-9d2d78f621bf",
   "metadata": {},
   "source": [
    "Ques2) Describe the role of keywords in python and provide the example of how they are used in a program\n",
    "\n",
    "Ans2) Keywords are predefined words that hold a special meaning and have specific purpose in python.\n"
   ]
  },
  {
   "cell_type": "code",
   "execution_count": 1,
   "id": "12d7ddfe-a92c-43c7-bac6-b16139e2326f",
   "metadata": {},
   "outputs": [
    {
     "name": "stdout",
     "output_type": "stream",
     "text": [
      "\n",
      "Here is a list of the Python keywords.  Enter any keyword to get more help.\n",
      "\n",
      "False               class               from                or\n",
      "None                continue            global              pass\n",
      "True                def                 if                  raise\n",
      "and                 del                 import              return\n",
      "as                  elif                in                  try\n",
      "assert              else                is                  while\n",
      "async               except              lambda              with\n",
      "await               finally             nonlocal            yield\n",
      "break               for                 not                 \n",
      "\n"
     ]
    }
   ],
   "source": [
    "help('keywords') # Ans 2"
   ]
  },
  {
   "cell_type": "code",
   "execution_count": 3,
   "id": "a7e8db7c-ccef-442f-92a6-826672baa296",
   "metadata": {},
   "outputs": [
    {
     "name": "stdout",
     "output_type": "stream",
     "text": [
      "X is greater than 5\n"
     ]
    }
   ],
   "source": [
    "# Ans 2 Example of how the keywords if and else are used in a program\n",
    "x = 5\n",
    "if x < 5:\n",
    "    print(\"X is less than 5\")\n",
    "else:\n",
    "    print(\"X is greater than 5\")"
   ]
  },
  {
   "cell_type": "raw",
   "id": "a0ad89cf-e1eb-4d55-8838-03dfdae17187",
   "metadata": {},
   "source": [
    "Ques3) Compare and contrast mutable and immutable objects in python with examples.\n",
    "ANs3) Mutable objects are the objects whose value can be changed after they are created and immutable objects are the objects whose value can't be changed after they are created."
   ]
  },
  {
   "cell_type": "code",
   "execution_count": 4,
   "id": "6c99c8ed-b655-4f9a-b95d-75122b4a28f9",
   "metadata": {},
   "outputs": [
    {
     "data": {
      "text/plain": [
       "[1, 2, 3.66, 'khushi', (5+6j)]"
      ]
     },
     "execution_count": 4,
     "metadata": {},
     "output_type": "execute_result"
    }
   ],
   "source": [
    "# Ans 3 - mutable object\n",
    "list_cont = [1,2,3.66,\"khushi\",5+6j] # List is a mutable object (the objects whose value can be changed after they are created ), here I have created a list.\n",
    "list_cont"
   ]
  },
  {
   "cell_type": "code",
   "execution_count": 5,
   "id": "f126c6bb-5ca1-4b87-b93a-147e6b94b6ee",
   "metadata": {},
   "outputs": [
    {
     "data": {
      "text/plain": [
       "'khushi'"
      ]
     },
     "execution_count": 5,
     "metadata": {},
     "output_type": "execute_result"
    }
   ],
   "source": [
    "list_cont[3]"
   ]
  },
  {
   "cell_type": "code",
   "execution_count": 6,
   "id": "5548e964-5dc9-4dbf-9498-301aaba2cdf8",
   "metadata": {},
   "outputs": [],
   "source": [
    "list_cont[3] = \"Anshul\" # here we are changing the value of 3rd index to show the mutability."
   ]
  },
  {
   "cell_type": "code",
   "execution_count": 7,
   "id": "445f6057-eef3-46d4-838f-98ee56dbb319",
   "metadata": {},
   "outputs": [
    {
     "data": {
      "text/plain": [
       "[1, 2, 3.66, 'Anshul', (5+6j)]"
      ]
     },
     "execution_count": 7,
     "metadata": {},
     "output_type": "execute_result"
    }
   ],
   "source": [
    "list_cont"
   ]
  },
  {
   "cell_type": "code",
   "execution_count": 8,
   "id": "a9d6ab08-37e8-4dcc-b5ef-3fb98cc9b434",
   "metadata": {},
   "outputs": [],
   "source": [
    "# Ans 3 Immutable object\n",
    "str1 = \"Khushi\""
   ]
  },
  {
   "cell_type": "code",
   "execution_count": 9,
   "id": "93399d7e-99a5-4fa6-8513-f5ad5b22ab63",
   "metadata": {},
   "outputs": [
    {
     "data": {
      "text/plain": [
       "'Khushi'"
      ]
     },
     "execution_count": 9,
     "metadata": {},
     "output_type": "execute_result"
    }
   ],
   "source": [
    "str1"
   ]
  },
  {
   "cell_type": "code",
   "execution_count": 10,
   "id": "5be0d633-21a1-415a-b91e-119e3e3d7937",
   "metadata": {},
   "outputs": [
    {
     "data": {
      "text/plain": [
       "str"
      ]
     },
     "execution_count": 10,
     "metadata": {},
     "output_type": "execute_result"
    }
   ],
   "source": [
    "type(str1)"
   ]
  },
  {
   "cell_type": "code",
   "execution_count": 11,
   "id": "5e0b4726-ac39-4d52-9383-7f4fe04a727d",
   "metadata": {},
   "outputs": [
    {
     "data": {
      "text/plain": [
       "'h'"
      ]
     },
     "execution_count": 11,
     "metadata": {},
     "output_type": "execute_result"
    }
   ],
   "source": [
    "str1[1]"
   ]
  },
  {
   "cell_type": "code",
   "execution_count": 12,
   "id": "9613dc85-cf07-43ff-9d7a-536fe6a33874",
   "metadata": {
    "collapsed": true,
    "jupyter": {
     "outputs_hidden": true
    },
    "tags": []
   },
   "outputs": [
    {
     "ename": "TypeError",
     "evalue": "'str' object does not support item assignment",
     "output_type": "error",
     "traceback": [
      "\u001b[0;31m---------------------------------------------------------------------------\u001b[0m",
      "\u001b[0;31mTypeError\u001b[0m                                 Traceback (most recent call last)",
      "Cell \u001b[0;32mIn[12], line 1\u001b[0m\n\u001b[0;32m----> 1\u001b[0m \u001b[43mstr1\u001b[49m\u001b[43m[\u001b[49m\u001b[38;5;241;43m1\u001b[39;49m\u001b[43m]\u001b[49m \u001b[38;5;241m=\u001b[39m \u001b[38;5;124m'\u001b[39m\u001b[38;5;124mk\u001b[39m\u001b[38;5;124m'\u001b[39m\n",
      "\u001b[0;31mTypeError\u001b[0m: 'str' object does not support item assignment"
     ]
    }
   ],
   "source": [
    "str1[1] = 'k' # String is an immutable object so we can't change the value, it will give an error "
   ]
  },
  {
   "cell_type": "raw",
   "id": "2f593abb-2c3d-4ecf-9660-71529805b698",
   "metadata": {},
   "source": [
    "Ques4) Discuss different types of operators in python and provide examples of how they are used.\n",
    "Ans4) 1. Arithmetic Operators:\n",
    "1.Addition (+)\n",
    "2.Subtraction (-)\n",
    "3.Multiplication (*)\n",
    "4.Division (/)\n",
    "5.Modulus (%)\n",
    "6.Exponentiation (**)\n",
    "7.Floor Division (//) \n",
    "\n",
    "2) Comparison Operators:\n",
    "1.Equal (==)\n",
    "2.Not Equal (!=)\n",
    "3.Greater Than (>)\n",
    "4.Less Than (<)\n",
    "5.Greater Than or Equal To (>=)\n",
    "6.Less Than or Equal To (<=)\n",
    "\n",
    "3) Logical Operators:\n",
    "1.and \n",
    "2.or \n",
    "3.not\n",
    "\n",
    "4) Assignment Operators:\n",
    "1. +=\n",
    "2. -=\n",
    "3. *=\n",
    "4. /=\n",
    "\n",
    "5) Bitwise Operators:\n",
    "1. &: Bitwise AND.\n",
    "2. |: Bitwise OR.\n",
    "3. ^: Bitwise XOR.\n",
    "4. ~: Bitwise NOT.\n",
    "5. <<: Bitwise left shift.\n",
    "6. >>: Bitwise right shift.\n",
    "\n",
    "\n",
    "6) Membership Operators:\n",
    "1. in\n",
    "2. not in\n",
    "\n",
    "7) Identity Operators:\n",
    "is\n",
    "is not\n"
   ]
  },
  {
   "cell_type": "code",
   "execution_count": 15,
   "id": "c30a4ba6-e0cb-48b3-bcdc-8384a6d7387b",
   "metadata": {},
   "outputs": [
    {
     "name": "stdout",
     "output_type": "stream",
     "text": [
      "13\n",
      "7\n",
      "30\n",
      "3.3333333333333335\n",
      "1\n",
      "1000\n",
      "3\n",
      "False\n",
      "True\n",
      "False\n",
      "True\n",
      "False\n",
      "True\n",
      "False\n",
      "True\n",
      "False\n",
      "8\n",
      "6\n",
      "12\n",
      "3.0\n",
      "0\n",
      "14\n",
      "14\n",
      "-11\n",
      "40\n",
      "2\n",
      "True\n",
      "True\n",
      "True\n",
      "False\n",
      "True\n"
     ]
    }
   ],
   "source": [
    "# Ans4 examples of how they are used.\n",
    "# Arithmetic Operators\n",
    "a = 10\n",
    "b = 3\n",
    "\n",
    "print(a + b)  # Output: 13\n",
    "print(a - b)  # Output: 7\n",
    "print(a * b)  # Output: 30\n",
    "print(a / b)  # Output: 3.3333...\n",
    "print(a % b)  # Output: 1\n",
    "print(a ** b)  # Output: 1000\n",
    "print(a // b)  # Output: 3\n",
    "\n",
    "# Comparison Operators\n",
    "x = 5\n",
    "y = 10\n",
    "\n",
    "print(x == y)  # Output: False\n",
    "print(x != y)  # Output: True\n",
    "print(x > y)   # Output: False\n",
    "print(x < y)   # Output: True\n",
    "print(x >= y)  # Output: False\n",
    "print(x <= y)  # Output: True\n",
    "\n",
    "# Logical Operators\n",
    "\n",
    "a = True\n",
    "b = False\n",
    "\n",
    "print(a and b)  # Output: False\n",
    "print(a or b)   # Output: True\n",
    "print(not a)    # Output: False\n",
    "\n",
    "#Assignment Operators\n",
    "a = 5\n",
    "a += 3  # Equivalent to a = a + 3\n",
    "print(a)  # Output: 8\n",
    "\n",
    "a -= 2  # Equivalent to a = a - 2\n",
    "print(a)  # Output: 6\n",
    "\n",
    "a *= 2  # Equivalent to a = a * 2\n",
    "print(a)  # Output: 12\n",
    "\n",
    "a /= 4  # Equivalent to a = a / 4\n",
    "print(a)  # Output: 3.0\n",
    "\n",
    "#Bitwise Operators\n",
    "\n",
    "a = 10  # 1010 in binary\n",
    "b = 4   # 0100 in binary\n",
    "\n",
    "print(a & b)  # Output: 0 (0000 in binary)\n",
    "print(a | b)  # Output: 14 (1110 in binary)\n",
    "print(a ^ b)  # Output: 14 (1110 in binary)\n",
    "print(~a)     # Output: -11 (inverts all the bits)\n",
    "print(a << 2) # Output: 40 (101000 in binary)\n",
    "print(a >> 2) # Output: 2 (10 in binary)\n",
    "\n",
    "# Membership Operators\n",
    "\n",
    "x = [1, 2, 3, 4, 5]\n",
    "\n",
    "print(3 in x)     # Output: True\n",
    "print(6 not in x) # Output: True\n",
    "\n",
    "# Identity Operators\n",
    "a = [1, 2, 3]\n",
    "b = a\n",
    "c = [1, 2, 3]\n",
    "\n",
    "print(a is b)      # Output: True\n",
    "print(a is c)      # Output: False\n",
    "print(a is not c)  # Output: True\n"
   ]
  },
  {
   "cell_type": "raw",
   "id": "90919b8e-0ed0-4d83-9b32-2f30512d8a82",
   "metadata": {},
   "source": [
    "Ques5) Explain the concept of typecasting in python with examples\n",
    "Ans5) Typecasting is the process of converting one data type into another. "
   ]
  },
  {
   "cell_type": "code",
   "execution_count": 24,
   "id": "c590e6cf-e1bb-42ae-8d06-e2db17a843d8",
   "metadata": {},
   "outputs": [
    {
     "name": "stdout",
     "output_type": "stream",
     "text": [
      "3.14\n",
      "<class 'float'>\n",
      "9\n",
      "<class 'int'>\n"
     ]
    }
   ],
   "source": [
    "# Ans 5 Examples of typecasting\n",
    "# 1. int to str\n",
    "num1 = 234 # int type\n",
    "str(num1) # converts int to str\n",
    "type(str(num1)) # type is string\n",
    "\n",
    "# 2. str to int\n",
    "str1 = \"456\" # string type\n",
    "int(str1) # convets from str to int\n",
    "type(int(str1)) # type is int\n",
    "\n",
    "# 3. String to Float\n",
    "float_str1 = \"3.14\"\n",
    "num = float(float_str1)\n",
    "print(num)  # Output: 3.14\n",
    "print(type(num))  # Output: <class 'float'>\n",
    "\n",
    "\n",
    "#4. Float to Integer\n",
    "num_float = 9.99\n",
    "num = int(num_float)\n",
    "print(num)  # Output: 9\n",
    "print(type(num))  # Output: <class 'int'>\n"
   ]
  },
  {
   "cell_type": "code",
   "execution_count": 25,
   "id": "bfad9d08-6261-4a08-b23b-5b319338e90e",
   "metadata": {},
   "outputs": [
    {
     "data": {
      "text/plain": [
       "int"
      ]
     },
     "execution_count": 25,
     "metadata": {},
     "output_type": "execute_result"
    }
   ],
   "source": [
    "type(num)"
   ]
  },
  {
   "cell_type": "code",
   "execution_count": 27,
   "id": "b042368e-de48-4b02-8a5e-3e802b7d2ef4",
   "metadata": {},
   "outputs": [
    {
     "data": {
      "text/plain": [
       "int"
      ]
     },
     "execution_count": 27,
     "metadata": {},
     "output_type": "execute_result"
    }
   ],
   "source": [
    "type(int(num))"
   ]
  },
  {
   "cell_type": "code",
   "execution_count": 31,
   "id": "22549702-8754-41f0-a6a9-35ce304722d2",
   "metadata": {},
   "outputs": [
    {
     "name": "stdout",
     "output_type": "stream",
     "text": [
      "x is greater than 5\n",
      "x is 5 or less\n",
      "x is greater than 5 but less than or equal to 10\n",
      "x is greater than 5 and y is less than 5\n"
     ]
    }
   ],
   "source": [
    "# Ques 6) How do conditional statements work in python? Explain with examples\n",
    "# ANs 6) conditional statements executes block of code if the condition is true or false.The conditional statements in Python are if, elif, and else.\n",
    "# 1. if statement\n",
    "x = 10\n",
    "\n",
    "if x > 5:\n",
    "    print(\"x is greater than 5\")\n",
    "# Output: x is greater than 5\n",
    "\n",
    "\n",
    "# 2. if-else Statement\n",
    "x = 3\n",
    "\n",
    "if x > 5:\n",
    "    print(\"x is greater than 5\")\n",
    "else:\n",
    "    print(\"x is 5 or less\")\n",
    "# Output: x is 5 or less\n",
    "\n",
    "# 3. if-elif-else Statement\n",
    "\n",
    "x = 7\n",
    "\n",
    "if x > 10:\n",
    "    print(\"x is greater than 10\")\n",
    "elif x > 5:\n",
    "    print(\"x is greater than 5 but less than or equal to 10\")\n",
    "else:\n",
    "    print(\"x is 5 or less\")\n",
    "# Output: x is greater than 5 but less than or equal to 10\n",
    "\n",
    "# 4. Nested if-statement\n",
    "\n",
    "x = 8\n",
    "y = 3\n",
    "\n",
    "if x > 5:\n",
    "    if y < 5:\n",
    "        print(\"x is greater than 5 and y is less than 5\")\n",
    "    else:\n",
    "        print(\"x is greater than 5 and y is 5 or more\")\n",
    "else:\n",
    "    print(\"x is 5 or less\")\n",
    "# Output: x is greater than 5 and y is less than 5\n",
    "\n"
   ]
  },
  {
   "cell_type": "code",
   "execution_count": 42,
   "id": "67729f9b-9c69-4b98-9577-96495a097e75",
   "metadata": {},
   "outputs": [
    {
     "name": "stdout",
     "output_type": "stream",
     "text": [
      "apple\n",
      "banana\n",
      "cherry\n",
      "1\n",
      "2\n",
      "3\n",
      "4\n",
      "5\n",
      "6\n",
      "7\n",
      "6\n",
      "5\n",
      "0\n",
      "1\n",
      "3\n",
      "4\n"
     ]
    }
   ],
   "source": [
    "#7. Describe different types of loops in python and their use cases with examples\n",
    "# 1.for Loop - It repeats the block of code for each item in the sequence.\n",
    "\n",
    "fruits = [\"apple\", \"banana\", \"cherry\"]\n",
    "\n",
    "for fruit in fruits:\n",
    "    print(fruit)\n",
    "# Output:\n",
    "# apple\n",
    "# banana\n",
    "# cherry\n",
    "\n",
    "# 2. while loop - it executes the blobk of code until the condition is true.\n",
    "i = 1\n",
    "while i < 7:\n",
    "    print(i)\n",
    "    i = i+1\n",
    "# Output:\n",
    "#1\n",
    "#2\n",
    "#3\n",
    "#4\n",
    "#5\n",
    "#6\n",
    "\n",
    "# break and continue\n",
    "count = 7\n",
    "while count > 0:\n",
    "    print(count)\n",
    "    count = count -1 \n",
    "    if count == 4:\n",
    "        break                #break statement\n",
    "else:\n",
    "    print(\"Successfully\")\n",
    "\n",
    "# continue\n",
    "\n",
    "for i in range(5):\n",
    "    if i == 2:\n",
    "        continue\n",
    "    print(i)\n",
    "# Output:\n",
    "# 0\n",
    "# 1\n",
    "# 3\n",
    "# 4\n"
   ]
  },
  {
   "cell_type": "code",
   "execution_count": null,
   "id": "086b516e-6965-466a-982b-8e31c68debf5",
   "metadata": {},
   "outputs": [],
   "source": []
  },
  {
   "cell_type": "code",
   "execution_count": null,
   "id": "879b1319-df84-48fe-bc58-c17bf70a22b2",
   "metadata": {},
   "outputs": [],
   "source": []
  }
 ],
 "metadata": {
  "kernelspec": {
   "display_name": "Python 3 (ipykernel)",
   "language": "python",
   "name": "python3"
  },
  "language_info": {
   "codemirror_mode": {
    "name": "ipython",
    "version": 3
   },
   "file_extension": ".py",
   "mimetype": "text/x-python",
   "name": "python",
   "nbconvert_exporter": "python",
   "pygments_lexer": "ipython3",
   "version": "3.10.8"
  }
 },
 "nbformat": 4,
 "nbformat_minor": 5
}
